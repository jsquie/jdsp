{
 "cells": [
  {
   "cell_type": "code",
   "execution_count": 2,
   "id": "f5970ce8-bdfc-48d9-ba07-a28d497b80bf",
   "metadata": {},
   "outputs": [],
   "source": [
    ":dep rand"
   ]
  },
  {
   "cell_type": "code",
   "execution_count": 18,
   "id": "40903d1c-5af9-48bf-bfc0-78231afedf45",
   "metadata": {},
   "outputs": [
    {
     "name": "stdout",
     "output_type": "stream",
     "text": [
      "0.3993271895985032\n"
     ]
    },
    {
     "data": {
      "text/plain": [
       "()"
      ]
     },
     "execution_count": 18,
     "metadata": {},
     "output_type": "execute_result"
    }
   ],
   "source": [
    "{\n",
    "    let mut rang = rand::thread_rng();\n",
    "    let res: f64 = rang.gen();\n",
    "    println!(\"{}\", res);\n",
    "\n",
    "}"
   ]
  },
  {
   "cell_type": "code",
   "execution_count": 19,
   "id": "350125d7-e19c-4260-ae29-9553949bf822",
   "metadata": {},
   "outputs": [],
   "source": [
    "use rand::Rng"
   ]
  },
  {
   "cell_type": "code",
   "execution_count": 23,
   "id": "7d3c51b1-90b1-4fcd-be6a-e160a4df1710",
   "metadata": {},
   "outputs": [],
   "source": [
    "use rand::{Rng, SeedableRng};"
   ]
  },
  {
   "cell_type": "code",
   "execution_count": 25,
   "id": "77f98013-11ac-4a51-835d-2891d4616744",
   "metadata": {},
   "outputs": [],
   "source": [
    "use rand::rngs"
   ]
  },
  {
   "cell_type": "code",
   "execution_count": 30,
   "id": "11f339c4-2fdd-41b8-8053-78855c1e6366",
   "metadata": {},
   "outputs": [
    {
     "ename": "Error",
     "evalue": "failed to resolve: could not find `SmallRng` in `rngs`",
     "output_type": "error",
     "traceback": [
      "\u001b[31m[E0433] Error:\u001b[0m failed to resolve: could not find `SmallRng` in `rngs`",
      "   \u001b[38;5;246m╭\u001b[0m\u001b[38;5;246m─\u001b[0m\u001b[38;5;246m[\u001b[0mcommand_30:1:1\u001b[38;5;246m]\u001b[0m",
      "   \u001b[38;5;246m│\u001b[0m",
      " \u001b[38;5;246m1 │\u001b[0m \u001b[38;5;249mr\u001b[0m\u001b[38;5;249ma\u001b[0m\u001b[38;5;249mn\u001b[0m\u001b[38;5;249md\u001b[0m\u001b[38;5;249m:\u001b[0m\u001b[38;5;249m:\u001b[0m\u001b[38;5;249mr\u001b[0m\u001b[38;5;249mn\u001b[0m\u001b[38;5;249mg\u001b[0m\u001b[38;5;249ms\u001b[0m\u001b[38;5;249m:\u001b[0m\u001b[38;5;249m:\u001b[0m\u001b[38;5;54mS\u001b[0m\u001b[38;5;54mm\u001b[0m\u001b[38;5;54ma\u001b[0m\u001b[38;5;54ml\u001b[0m\u001b[38;5;54ml\u001b[0m\u001b[38;5;54mR\u001b[0m\u001b[38;5;54mn\u001b[0m\u001b[38;5;54mg\u001b[0m\u001b[38;5;249m:\u001b[0m\u001b[38;5;249m:\u001b[0m\u001b[38;5;249ms\u001b[0m\u001b[38;5;249me\u001b[0m\u001b[38;5;249me\u001b[0m\u001b[38;5;249md\u001b[0m\u001b[38;5;249m_\u001b[0m\u001b[38;5;249mf\u001b[0m\u001b[38;5;249mr\u001b[0m\u001b[38;5;249mo\u001b[0m\u001b[38;5;249mm\u001b[0m\u001b[38;5;249m_\u001b[0m\u001b[38;5;249mu\u001b[0m\u001b[38;5;249m6\u001b[0m\u001b[38;5;249m4\u001b[0m\u001b[38;5;249m(\u001b[0m\u001b[38;5;249m2\u001b[0m\u001b[38;5;249m)\u001b[0m",
      " \u001b[38;5;240m  │\u001b[0m             \u001b[38;5;54m─\u001b[0m\u001b[38;5;54m─\u001b[0m\u001b[38;5;54m─\u001b[0m\u001b[38;5;54m─\u001b[0m\u001b[38;5;54m┬\u001b[0m\u001b[38;5;54m─\u001b[0m\u001b[38;5;54m─\u001b[0m\u001b[38;5;54m─\u001b[0m  ",
      " \u001b[38;5;240m  │\u001b[0m                 \u001b[38;5;54m╰\u001b[0m\u001b[38;5;54m─\u001b[0m\u001b[38;5;54m─\u001b[0m\u001b[38;5;54m─\u001b[0m\u001b[38;5;54m─\u001b[0m\u001b[38;5;54m─\u001b[0m could not find `SmallRng` in `rngs`",
      " \u001b[38;5;240m  │\u001b[0m ",
      " \u001b[38;5;240m  │\u001b[0m \u001b[38;5;115mNote\u001b[0m: note: found an item that was configured out",
      "\u001b[38;5;246m───╯\u001b[0m"
     ]
    }
   ],
   "source": [
    "rand::rngs::SmallRng::seed_from_u64(2)"
   ]
  },
  {
   "cell_type": "code",
   "execution_count": null,
   "id": "355d5095-7e94-4f8b-83fa-3f2124e923b4",
   "metadata": {},
   "outputs": [],
   "source": []
  }
 ],
 "metadata": {
  "kernelspec": {
   "display_name": "Rust",
   "language": "rust",
   "name": "rust"
  },
  "language_info": {
   "codemirror_mode": "rust",
   "file_extension": ".rs",
   "mimetype": "text/rust",
   "name": "Rust",
   "pygment_lexer": "rust",
   "version": ""
  }
 },
 "nbformat": 4,
 "nbformat_minor": 5
}
